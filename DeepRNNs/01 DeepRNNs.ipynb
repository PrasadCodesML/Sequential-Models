{
  "nbformat": 4,
  "nbformat_minor": 0,
  "metadata": {
    "colab": {
      "provenance": []
    },
    "kernelspec": {
      "name": "python3",
      "display_name": "Python 3"
    },
    "language_info": {
      "name": "python"
    }
  },
  "cells": [
    {
      "cell_type": "markdown",
      "source": [
        "### Deep RNNs\n",
        "\n",
        "Deep RNNs are also known as stacked RNNs\n",
        "\n",
        "![image.png](data:image/png;base64,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)"
      ],
      "metadata": {
        "id": "HmsCTNG5cysE"
      }
    },
    {
      "cell_type": "markdown",
      "source": [
        "### Why and When to use DeepRNNs\n",
        "\n",
        "We should use DeepRNN where we have to capture complex patterns between the data\n",
        "\n",
        "1. Hierarchial Representation\n",
        "  - Words makes sentences and sentences makes paragraphs this is a hierarchy\n",
        "  - Similarly initial layers of RNN for let's say sentiment analysis will try to give output based on words, the more middle layers will try to give output by understanding the meaning of the sentence and the final layers of RNNs will try to give output by understanding the meaning of the entire paragraph\n",
        "  - Deep RNNs are able to capture hierarcial representation\n",
        "\n",
        "2. Customiztion for Advanced Tasks\n",
        "\n",
        "### When to use DeepRNNs\n",
        "\n",
        "1. Complex task (eg. speeh recognition, machine translation)\n",
        "2. When you have large dataset\n",
        "3. If you have sufficiant computation and computational power\n",
        "4. When you are not satisfied by simpler models"
      ],
      "metadata": {
        "id": "NEpVvCMJfi3a"
      }
    },
    {
      "cell_type": "code",
      "source": [
        "import tensorflow as tf\n",
        "from tensorflow.keras.datasets import imdb\n",
        "from tensorflow.keras.preprocessing.sequence import pad_sequences\n",
        "from tensorflow.keras.models import Sequential\n",
        "from tensorflow.keras.layers import Embedding, SimpleRNN, Dense"
      ],
      "metadata": {
        "id": "E1pxDkVEhDnJ"
      },
      "execution_count": 5,
      "outputs": []
    },
    {
      "cell_type": "code",
      "source": [
        "(X_train, y_train), (X_test, y_test) = imdb.load_data(num_words = 10000)"
      ],
      "metadata": {
        "colab": {
          "base_uri": "https://localhost:8080/"
        },
        "id": "xDS2-YnLhaFG",
        "outputId": "32b01cab-f41d-4d7d-cfdd-629209ae7af0"
      },
      "execution_count": 6,
      "outputs": [
        {
          "output_type": "stream",
          "name": "stdout",
          "text": [
            "Downloading data from https://storage.googleapis.com/tensorflow/tf-keras-datasets/imdb.npz\n",
            "\u001b[1m17464789/17464789\u001b[0m \u001b[32m━━━━━━━━━━━━━━━━━━━━\u001b[0m\u001b[37m\u001b[0m \u001b[1m0s\u001b[0m 0us/step\n"
          ]
        }
      ]
    },
    {
      "cell_type": "code",
      "source": [
        "model = Sequential([\n",
        "    Embedding(10000, 32),\n",
        "    SimpleRNN(5, return_sequences=True),\n",
        "    SimpleRNN(5),\n",
        "    Dense(1, activation = 'sigmoid')\n",
        "])"
      ],
      "metadata": {
        "id": "XDqO0CI0hdNO"
      },
      "execution_count": 7,
      "outputs": []
    },
    {
      "cell_type": "code",
      "source": [
        "model.summary()"
      ],
      "metadata": {
        "colab": {
          "base_uri": "https://localhost:8080/",
          "height": 257
        },
        "id": "kEoVJWgXh6Rr",
        "outputId": "e198dcdb-211f-4741-9e7c-4c13963d229b"
      },
      "execution_count": 8,
      "outputs": [
        {
          "output_type": "display_data",
          "data": {
            "text/plain": [
              "\u001b[1mModel: \"sequential\"\u001b[0m\n"
            ],
            "text/html": [
              "<pre style=\"white-space:pre;overflow-x:auto;line-height:normal;font-family:Menlo,'DejaVu Sans Mono',consolas,'Courier New',monospace\"><span style=\"font-weight: bold\">Model: \"sequential\"</span>\n",
              "</pre>\n"
            ]
          },
          "metadata": {}
        },
        {
          "output_type": "display_data",
          "data": {
            "text/plain": [
              "┏━━━━━━━━━━━━━━━━━━━━━━━━━━━━━━━━━━━━━━┳━━━━━━━━━━━━━━━━━━━━━━━━━━━━━┳━━━━━━━━━━━━━━━━━┓\n",
              "┃\u001b[1m \u001b[0m\u001b[1mLayer (type)                        \u001b[0m\u001b[1m \u001b[0m┃\u001b[1m \u001b[0m\u001b[1mOutput Shape               \u001b[0m\u001b[1m \u001b[0m┃\u001b[1m \u001b[0m\u001b[1m        Param #\u001b[0m\u001b[1m \u001b[0m┃\n",
              "┡━━━━━━━━━━━━━━━━━━━━━━━━━━━━━━━━━━━━━━╇━━━━━━━━━━━━━━━━━━━━━━━━━━━━━╇━━━━━━━━━━━━━━━━━┩\n",
              "│ embedding (\u001b[38;5;33mEmbedding\u001b[0m)                │ ?                           │     \u001b[38;5;34m0\u001b[0m (unbuilt) │\n",
              "├──────────────────────────────────────┼─────────────────────────────┼─────────────────┤\n",
              "│ simple_rnn (\u001b[38;5;33mSimpleRNN\u001b[0m)               │ ?                           │     \u001b[38;5;34m0\u001b[0m (unbuilt) │\n",
              "├──────────────────────────────────────┼─────────────────────────────┼─────────────────┤\n",
              "│ simple_rnn_1 (\u001b[38;5;33mSimpleRNN\u001b[0m)             │ ?                           │     \u001b[38;5;34m0\u001b[0m (unbuilt) │\n",
              "├──────────────────────────────────────┼─────────────────────────────┼─────────────────┤\n",
              "│ dense (\u001b[38;5;33mDense\u001b[0m)                        │ ?                           │     \u001b[38;5;34m0\u001b[0m (unbuilt) │\n",
              "└──────────────────────────────────────┴─────────────────────────────┴─────────────────┘\n"
            ],
            "text/html": [
              "<pre style=\"white-space:pre;overflow-x:auto;line-height:normal;font-family:Menlo,'DejaVu Sans Mono',consolas,'Courier New',monospace\">┏━━━━━━━━━━━━━━━━━━━━━━━━━━━━━━━━━━━━━━┳━━━━━━━━━━━━━━━━━━━━━━━━━━━━━┳━━━━━━━━━━━━━━━━━┓\n",
              "┃<span style=\"font-weight: bold\"> Layer (type)                         </span>┃<span style=\"font-weight: bold\"> Output Shape                </span>┃<span style=\"font-weight: bold\">         Param # </span>┃\n",
              "┡━━━━━━━━━━━━━━━━━━━━━━━━━━━━━━━━━━━━━━╇━━━━━━━━━━━━━━━━━━━━━━━━━━━━━╇━━━━━━━━━━━━━━━━━┩\n",
              "│ embedding (<span style=\"color: #0087ff; text-decoration-color: #0087ff\">Embedding</span>)                │ ?                           │     <span style=\"color: #00af00; text-decoration-color: #00af00\">0</span> (unbuilt) │\n",
              "├──────────────────────────────────────┼─────────────────────────────┼─────────────────┤\n",
              "│ simple_rnn (<span style=\"color: #0087ff; text-decoration-color: #0087ff\">SimpleRNN</span>)               │ ?                           │     <span style=\"color: #00af00; text-decoration-color: #00af00\">0</span> (unbuilt) │\n",
              "├──────────────────────────────────────┼─────────────────────────────┼─────────────────┤\n",
              "│ simple_rnn_1 (<span style=\"color: #0087ff; text-decoration-color: #0087ff\">SimpleRNN</span>)             │ ?                           │     <span style=\"color: #00af00; text-decoration-color: #00af00\">0</span> (unbuilt) │\n",
              "├──────────────────────────────────────┼─────────────────────────────┼─────────────────┤\n",
              "│ dense (<span style=\"color: #0087ff; text-decoration-color: #0087ff\">Dense</span>)                        │ ?                           │     <span style=\"color: #00af00; text-decoration-color: #00af00\">0</span> (unbuilt) │\n",
              "└──────────────────────────────────────┴─────────────────────────────┴─────────────────┘\n",
              "</pre>\n"
            ]
          },
          "metadata": {}
        },
        {
          "output_type": "display_data",
          "data": {
            "text/plain": [
              "\u001b[1m Total params: \u001b[0m\u001b[38;5;34m0\u001b[0m (0.00 B)\n"
            ],
            "text/html": [
              "<pre style=\"white-space:pre;overflow-x:auto;line-height:normal;font-family:Menlo,'DejaVu Sans Mono',consolas,'Courier New',monospace\"><span style=\"font-weight: bold\"> Total params: </span><span style=\"color: #00af00; text-decoration-color: #00af00\">0</span> (0.00 B)\n",
              "</pre>\n"
            ]
          },
          "metadata": {}
        },
        {
          "output_type": "display_data",
          "data": {
            "text/plain": [
              "\u001b[1m Trainable params: \u001b[0m\u001b[38;5;34m0\u001b[0m (0.00 B)\n"
            ],
            "text/html": [
              "<pre style=\"white-space:pre;overflow-x:auto;line-height:normal;font-family:Menlo,'DejaVu Sans Mono',consolas,'Courier New',monospace\"><span style=\"font-weight: bold\"> Trainable params: </span><span style=\"color: #00af00; text-decoration-color: #00af00\">0</span> (0.00 B)\n",
              "</pre>\n"
            ]
          },
          "metadata": {}
        },
        {
          "output_type": "display_data",
          "data": {
            "text/plain": [
              "\u001b[1m Non-trainable params: \u001b[0m\u001b[38;5;34m0\u001b[0m (0.00 B)\n"
            ],
            "text/html": [
              "<pre style=\"white-space:pre;overflow-x:auto;line-height:normal;font-family:Menlo,'DejaVu Sans Mono',consolas,'Courier New',monospace\"><span style=\"font-weight: bold\"> Non-trainable params: </span><span style=\"color: #00af00; text-decoration-color: #00af00\">0</span> (0.00 B)\n",
              "</pre>\n"
            ]
          },
          "metadata": {}
        }
      ]
    },
    {
      "cell_type": "code",
      "source": [
        "model.compile(optimizer = 'adam', loss = 'binary_crossentropy', metrics = ['accuracy'])"
      ],
      "metadata": {
        "id": "KWPQYsnsh84A"
      },
      "execution_count": 9,
      "outputs": []
    },
    {
      "cell_type": "code",
      "source": [
        "max_length = 50\n",
        "X_train = pad_sequences(X_train, maxlen=max_length)\n",
        "X_test = pad_sequences(X_test, maxlen=max_length)"
      ],
      "metadata": {
        "id": "5gufNWmNiM8a"
      },
      "execution_count": 12,
      "outputs": []
    },
    {
      "cell_type": "code",
      "source": [
        "model.fit(X_train, y_train, epochs = 5, validation_data = (X_test, y_test))"
      ],
      "metadata": {
        "colab": {
          "base_uri": "https://localhost:8080/"
        },
        "id": "g4gWxX6tiA1y",
        "outputId": "89608096-576a-4f90-87e5-4442b077da3f"
      },
      "execution_count": 13,
      "outputs": [
        {
          "output_type": "stream",
          "name": "stdout",
          "text": [
            "Epoch 1/5\n",
            "\u001b[1m782/782\u001b[0m \u001b[32m━━━━━━━━━━━━━━━━━━━━\u001b[0m\u001b[37m\u001b[0m \u001b[1m29s\u001b[0m 32ms/step - accuracy: 0.6348 - loss: 0.6346 - val_accuracy: 0.7465 - val_loss: 0.5261\n",
            "Epoch 2/5\n",
            "\u001b[1m782/782\u001b[0m \u001b[32m━━━━━━━━━━━━━━━━━━━━\u001b[0m\u001b[37m\u001b[0m \u001b[1m25s\u001b[0m 32ms/step - accuracy: 0.7978 - loss: 0.4403 - val_accuracy: 0.7629 - val_loss: 0.5046\n",
            "Epoch 3/5\n",
            "\u001b[1m782/782\u001b[0m \u001b[32m━━━━━━━━━━━━━━━━━━━━\u001b[0m\u001b[37m\u001b[0m \u001b[1m41s\u001b[0m 32ms/step - accuracy: 0.8697 - loss: 0.3182 - val_accuracy: 0.7690 - val_loss: 0.5149\n",
            "Epoch 4/5\n",
            "\u001b[1m782/782\u001b[0m \u001b[32m━━━━━━━━━━━━━━━━━━━━\u001b[0m\u001b[37m\u001b[0m \u001b[1m41s\u001b[0m 31ms/step - accuracy: 0.9120 - loss: 0.2394 - val_accuracy: 0.7634 - val_loss: 0.5721\n",
            "Epoch 5/5\n",
            "\u001b[1m782/782\u001b[0m \u001b[32m━━━━━━━━━━━━━━━━━━━━\u001b[0m\u001b[37m\u001b[0m \u001b[1m43s\u001b[0m 34ms/step - accuracy: 0.9386 - loss: 0.1752 - val_accuracy: 0.7552 - val_loss: 0.6291\n"
          ]
        },
        {
          "output_type": "execute_result",
          "data": {
            "text/plain": [
              "<keras.src.callbacks.history.History at 0x7cd63182b790>"
            ]
          },
          "metadata": {},
          "execution_count": 13
        }
      ]
    },
    {
      "cell_type": "markdown",
      "source": [
        "### You can also do DeepLSTMs and DeepGRUs"
      ],
      "metadata": {
        "id": "6XBPWHW5iklt"
      }
    }
  ]
}