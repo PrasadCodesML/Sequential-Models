{
  "nbformat": 4,
  "nbformat_minor": 0,
  "metadata": {
    "colab": {
      "provenance": []
    },
    "kernelspec": {
      "name": "python3",
      "display_name": "Python 3"
    },
    "language_info": {
      "name": "python"
    }
  },
  "cells": [
    {
      "cell_type": "markdown",
      "source": [
        "### Types of RNN architectures\n",
        "\n",
        "1. Many to One\n",
        "  - Input -> Sequential input\n",
        "  - Output -> Non Sequential output\n",
        "  - Eg. Sentiment Analysis, Rating Prediction from user review\n",
        "\n",
        "2. One to Many\n",
        "  - Input -> Normal non sequential input\n",
        "  - Output -> Sequential output\n",
        "  - Eg. Image Captioning\n",
        "\n",
        "3. Many to Many\n",
        "  - Input -> Sequential input\n",
        "  - Output -> Sequential output\n",
        "\n",
        "  There are two types :\n",
        "\n",
        "    a. Same Length\n",
        "      - eg. POS tagging, NER\n",
        "    \n",
        "    b. Variable Length\n",
        "      - eg. Machine translation (language translation)\n",
        "\n",
        "4. One to One (Technicaly not a RNN)\n",
        "  - Input -> Normal non sequential input\n",
        "  - Output -> Normal non sequential output\n",
        "  - Eg. Image classification"
      ],
      "metadata": {
        "id": "cN1EkCYCHC5R"
      }
    }
  ]
}