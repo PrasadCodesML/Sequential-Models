{
  "nbformat": 4,
  "nbformat_minor": 0,
  "metadata": {
    "colab": {
      "provenance": []
    },
    "kernelspec": {
      "name": "python3",
      "display_name": "Python 3"
    },
    "language_info": {
      "name": "python"
    }
  },
  "cells": [
    {
      "cell_type": "markdown",
      "source": [
        "### Why Use RNNs\n",
        "\n",
        "RNNs are used for sequential data\n",
        "\n",
        "If we use ANN for sequential data ...\n",
        "1. Text input is varying sizes : One of the reason you cannot use ANNs for textual data is because the textual input can vary and ANNs have contant input size, we can solve this by introducing padding but still if the input shape (sentence is 500) this is unnecssary computation\n",
        "2. Loss of sequence in sequential data\n",
        "\n",
        "Example applications of RNNs : Sentiment Analysis, Sentence completion, Image captioning, Language translation, Question and answering system, Time series forecasting"
      ],
      "metadata": {
        "id": "DmX2mFmhPy6Y"
      }
    }
  ]
}